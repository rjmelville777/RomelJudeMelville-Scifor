{
  "nbformat": 4,
  "nbformat_minor": 0,
  "metadata": {
    "colab": {
      "provenance": []
    },
    "kernelspec": {
      "name": "python3",
      "display_name": "Python 3"
    },
    "language_info": {
      "name": "python"
    }
  },
  "cells": [
    {
      "cell_type": "markdown",
      "source": [
        "1. What is Streamlit, and how does it differ from other web frameworks?\n",
        "\n",
        "Streamlit is an open-source Python framework for building interactive, data-driven web applications. It is designed to be easy to use, even for those with no prior experience in web development. Streamlit works by providing a simple interface for creating interactive widgets and displaying data visualizations. This makes it easy to create web applications that allow users to explore and interact with data in a variety of ways.\n",
        "\n",
        "It differs from other web frameworks in ways such as:\n",
        "* Streamlit is specifically designed for data science and machine learning applications. This means that it provides a number of features that are useful for these types of applications, such as the ability to easily display data visualizations and interact with machine learning models.\n",
        "\n",
        "* Streamlit is very fast and lightweight.\n",
        "\n",
        "* Streamlit is easy to use, even for those with no prior experience in web development. Streamlit works by providing a simple interface for creating interactive widgets and displaying data visualizations.\n",
        "\n"
      ],
      "metadata": {
        "id": "jumrB5T7CeDS"
      }
    },
    {
      "cell_type": "markdown",
      "source": [
        "2. Explain the basic structure of a Streamlit app.\n",
        "\n",
        "The basic structure of a Streamlit app is quite simple. Here are the key components:\n",
        "1. Importing streamlit as st\n",
        "2. st.title and st.write functions can be used to add titles and text\n",
        "3. A lot of interactive widgets can be used to display information such as st.button, st.slider,st.header etc...\n",
        "4. Data visualization is made easy with the import of libraries such as matplotlib,plotly, etc...\n",
        "5. Data processing can be done by importing pandas\n",
        "6. Finally we can run it by using streamlit run app.py"
      ],
      "metadata": {
        "id": "uji2dLwVH8CI"
      }
    },
    {
      "cell_type": "markdown",
      "source": [
        "3. How can you add a title to your Streamlit app?\n",
        "\n",
        "You can add a title to your Streamlit app using the st.title function\n",
        "st.title(\"Scifor Technologies\")\n",
        "We can use st.header and st.subheader for heading levels and st.text to add text in that\n",
        "\n",
        "\n",
        "\n"
      ],
      "metadata": {
        "id": "QmE0lLtKIATy"
      }
    },
    {
      "cell_type": "markdown",
      "source": [
        "4. What is the purpose of the st.write() function in Streamlit?\n",
        "\n",
        "The st.write() function in streamlit is a  function that can be used to display a variety of content in a Streamlit app. It can be used to display text, dataframes, charts, images, videos and more.\n"
      ],
      "metadata": {
        "id": "oG4eKaJZIA_R"
      }
    },
    {
      "cell_type": "markdown",
      "source": [
        "5. How do you create interactive widgets in Streamlit? Provide examples.\n",
        "\n",
        "Streamlit provides a variety of interactive widgets that allow users to interact with your app. Few of the examples are:\n",
        "1. st.write() is used to add a text\n",
        "st.write(\"Hello World\")\n",
        "2. st.title() is used to add a title\n",
        "st.title (\"this is the app title\")\n",
        "3. st.header is used to set header of a section\n",
        "st.header(\"this is the header\")\n",
        "4. st.markdown is used to set a markdown of a section\n",
        "st.markdown(\"this is the markdown\")\n",
        "5. st.subheader is used to set subheader of a section\n",
        "st.subheader(\"this is the subheader\")\n",
        "6. st.caption is used to write caption\n",
        "st.caption(\"this is the caption\")\n",
        "7. st.image() is used to display an image\n",
        "8. st.video() is used to display a video\n",
        "9. st.audio() is used to display an audio\n",
        "10. st.sidebar() will make the element pinned to the left\n",
        "To add a title to the sidebar, use the st.sidebar.title() function\n",
        "To add text to the sidebar, use the st.sidebar.write() function\n",
        "11. st.pyplot() is used to display matplotlib figures. We can display line charts, barcharts, area charts etc.\n",
        "These are only a few of the examples of the interactive widgets in streamlit."
      ],
      "metadata": {
        "id": "xXf8oAfdIDM1"
      }
    }
  ]
}